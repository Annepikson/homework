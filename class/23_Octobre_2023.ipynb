{
  "cells": [
    {
      "cell_type": "markdown",
      "metadata": {
        "id": "view-in-github",
        "colab_type": "text"
      },
      "source": [
        "<a href=\"https://colab.research.google.com/github/Annepikson/homework/blob/main/class/23_Octobre_2023.ipynb\" target=\"_parent\"><img src=\"https://colab.research.google.com/assets/colab-badge.svg\" alt=\"Open In Colab\"/></a>"
      ]
    },
    {
      "cell_type": "code",
      "execution_count": 2,
      "metadata": {
        "colab": {
          "base_uri": "https://localhost:8080/"
        },
        "id": "BmPoxkEW6KZt",
        "outputId": "70354c76-5fbe-468b-9a95-56e6c31a812e"
      },
      "outputs": [
        {
          "output_type": "stream",
          "name": "stdout",
          "text": [
            "a= 45 b= 33 c= 12\n",
            "a= 33 b= 12 c= 21\n",
            "s= 21 b= 12 c= 9\n",
            "a= 12 b= 9 c= 3\n",
            "a= 9 b= 3 c= 6\n",
            "a= 6 b= 3 c= 3\n"
          ]
        }
      ],
      "source": [
        "\n",
        "a = 45\n",
        "b = 33\n",
        "c = a-b\n",
        "\n",
        "print(\"a=\",a,\"b=\",b,\"c=\",c)\n",
        "while b != c:\n",
        "  if b > c:\n",
        "    a = b\n",
        "    b = c\n",
        "\n",
        "c = a-b\n",
        "print(\"a=\",a,\"b=\",b,\"c=\",c)\n",
        "if b < c:\n",
        "  a = c\n",
        "c = a-b\n",
        "print(\"s=\",a,\"b=\",b,\"c=\",c)\n",
        "if a > b:\n",
        "  a = b\n",
        "  b = c\n",
        "\n",
        "c = a-b\n",
        "print(\"a=\",a,\"b=\",b,\"c=\",c)\n",
        "\n",
        "if a > b:\n",
        "  a = b\n",
        "  b = c\n",
        "\n",
        "c = a-b\n",
        "print(\"a=\",a,\"b=\",b,\"c=\",c)\n",
        "\n",
        "if b < c:\n",
        "  a = c\n",
        "\n",
        "c = a-b\n",
        "print(\"a=\",a,\"b=\",b,\"c=\",c)"
      ]
    },
    {
      "cell_type": "code",
      "source": [
        "d = {}\n",
        "d['keys'] = 'value'"
      ],
      "metadata": {
        "id": "CBscy8B0OIFC"
      },
      "execution_count": 3,
      "outputs": []
    },
    {
      "cell_type": "code",
      "execution_count": null,
      "metadata": {
        "colab": {
          "background_save": true
        },
        "id": "ztlDzc3H5-uQ",
        "outputId": "22587e0f-5d77-4db0-8826-74adec022773"
      },
      "outputs": [
        {
          "ename": "SyntaxError",
          "evalue": "ignored",
          "output_type": "error",
          "traceback": [
            "\u001b[0;36m  File \u001b[0;32m\"<ipython-input-1-7f86293c498b>\"\u001b[0;36m, line \u001b[0;32m6\u001b[0m\n\u001b[0;31m    \u001b[0m\n\u001b[0m    ^\u001b[0m\n\u001b[0;31mSyntaxError\u001b[0m\u001b[0;31m:\u001b[0m incomplete input\n"
          ]
        }
      ],
      "source": [
        "a = 45\n",
        "b = 33\n",
        "c = s-b\n",
        "print(\"a=\",a,\"b=\",b,\"c=\",c)\n",
        "while b!=c:\n"
      ]
    }
  ],
  "metadata": {
    "colab": {
      "provenance": [],
      "authorship_tag": "ABX9TyPlr/4b4+P+1aKdTPlbaOn6",
      "include_colab_link": true
    },
    "kernelspec": {
      "display_name": "Python 3",
      "name": "python3"
    },
    "language_info": {
      "name": "python"
    }
  },
  "nbformat": 4,
  "nbformat_minor": 0
}